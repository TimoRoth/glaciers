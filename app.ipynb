{
 "cells": [
  {
   "cell_type": "markdown",
   "metadata": {},
   "source": [
    "# OGGM Glacier Panel\n",
    "\n",
    "HoloViews+Panel implementation of a [dashboard originally developed in Plotly+Dash](https://github.com/OGGM/OGGM-Dash/blob/master/apps/explore/app.py).  The dashboard can be used here in the notebook, or you can run it as a separate server using:\n",
    "\n",
    "    panel serve OGGM_Glacier.ipynb --show"
   ]
  },
  {
   "cell_type": "code",
   "execution_count": null,
   "metadata": {},
   "outputs": [],
   "source": [
    "import os\n",
    "import numpy as np\n",
    "import dask.dataframe as dd\n",
    "import cartopy.crs as ccrs\n",
    "\n",
    "import bokeh\n",
    "import panel as pn\n",
    "import holoviews as hv\n",
    "import geoviews as gv\n",
    "\n",
    "hv.extension('bokeh')"
   ]
  },
  {
   "cell_type": "markdown",
   "metadata": {},
   "source": [
    "### Preprocess data"
   ]
  },
  {
   "cell_type": "code",
   "execution_count": null,
   "metadata": {},
   "outputs": [],
   "source": [
    "df = dd.read_csv('data/oggm_glacier_explorer.csv').persist()\n",
    "df['latdeg'] = df.cenlat\n",
    "\n",
    "ds = gv.Points(df, [('cenlon', 'Longitude'), ('cenlat', 'Latitude')],   # key dimensions\n",
    "                    [('avg_prcp', 'Annual Precipitation (mm/yr)'), # value dimensions\n",
    "                     ('area_km2', 'Area'), ('latdeg', 'Latitude (deg)'),\n",
    "                     ('avg_temp_at_mean_elev', 'Annual Temperature at avg. altitude'), \n",
    "                     ('mean_elev', 'Elevation')])\n",
    "ds = gv.operation.project_points(ds).map(gv.Dataset, gv.Points).clone(crs=ccrs.GOOGLE_MERCATOR)\n",
    "\n",
    "precip_range = ds.range('avg_prcp')\n",
    "temp_range = ds.range('avg_temp_at_mean_elev')"
   ]
  },
  {
   "cell_type": "markdown",
   "metadata": {},
   "source": [
    "### Static header items\n",
    "\n",
    "Defines static items to use in the header at the top of the dashboard.  If you want more control over the formatting, could define these items in a separate Jinja2 template."
   ]
  },
  {
   "cell_type": "code",
   "execution_count": null,
   "metadata": {},
   "outputs": [],
   "source": [
    "title = '<p style=\"font-size:35px\">World glaciers explorer</p>'\n",
    "instruction = 'Box-select on each plot; make an empty selection on the same plot to reset.'\n",
    "oggm_logo = '<a href=\"https://github.com/OGGM/OGGM-Dash\"><img src=\"https://raw.githubusercontent.com/OGGM/oggm/master/docs/_static/logos/oggm_s_alpha.png\" width=170></a>'\n",
    "pv_logo = '<a href=\"https://pyviz.org\"><img src=\"http://pyviz.org/assets/PyViz_logo_wm.png\" width=80></a>'\n",
    "clear_button = pn.widgets.Button(name='Clear selection', width=100)"
   ]
  },
  {
   "cell_type": "markdown",
   "metadata": {},
   "source": [
    "### Declare and link plots\n",
    "\n",
    "The dashboard contains several plots, each linked so that selections in one plot constrain the data selected in the others. Notes on the implementation:\n",
    "\n",
    "* Because all plots derive from a single underlying data source, we will first declare an `hv.Dataset` object where we can label the key (independent) and value (dependent) dimensions in a way that will be inherited by each individual plot. \n",
    "* Static versions of each plot allow data to be selected and form the background on which those selections will be displayed\n",
    "* Selections are implemented as HoloViews/Bokeh streams, with ``Selection1D`` streams for the points (selecting in a box) and ``BoundsX`` streams for the histograms (selecting on one axis).\n",
    "* The various selections across each plot are combined using the ``combine_selections`` function\n",
    "* The selections form a dynamic version of each static plot, overlaid on the static plot.\n",
    "* An additional widget makes it simple to clear all selections without having to select each plot in turn."
   ]
  },
  {
   "cell_type": "code",
   "execution_count": null,
   "metadata": {},
   "outputs": [],
   "source": [
    "from holoviews.streams import Stream, BoundsXY, BoundsX\n",
    "from bokeh.palettes import plasma\n",
    "from bokeh.models import HoverTool\n",
    "\n",
    "def combine_selections(kwargs):\n",
    "    \"\"\"\n",
    "    Combines selections on all 4 plots into a single selection by index.\n",
    "    \"\"\"\n",
    "    if all(not v for v in kwargs.values()):\n",
    "        return slice(None)\n",
    "    selection = {}\n",
    "    for key, bounds in kwargs.items():\n",
    "        if bounds is None:\n",
    "            continue\n",
    "        elif len(bounds) == 2:\n",
    "            selection[key[:-7]] = bounds\n",
    "        else:\n",
    "            xbound, ybound = key.split('__')\n",
    "            selection[xbound] = bounds[0], bounds[2]\n",
    "            selection[ybound[:-7]] = bounds[1], bounds[3]\n",
    "    return sorted(set(ds.select(**selection).data.index))\n",
    "\n",
    "color_precip = '#85c1e9'\n",
    "color_temp = '#f1948a'\n",
    "color_lat = '#7d3c98'\n",
    "\n",
    "def select_ds(**kwargs):\n",
    "    return ds.iloc[combine_selections(kwargs)] if kwargs else ds\n",
    "\n",
    "def count(ds):\n",
    "    return hv.Div('<p style=\"font-size:20px\">Glaciers selected: ' + \n",
    "                  str(len(ds)) + \"</font>\").options(height=40)\n",
    "\n",
    "def geo_view(ds):\n",
    "    return gv.Points(ds, crs=ccrs.GOOGLE_MERCATOR).options(alpha=1)\n",
    "\n",
    "def lat_alt_view(ds):\n",
    "    return ds.to(hv.Scatter, 'mean_elev', 'latdeg', [])\n",
    "\n",
    "hist_kwargs  = dict(num_bins=50, adjoin=False, normed=False)\n",
    "hist_options = dict(width=600, default_tools=[], toolbar=None, alpha=1.0)\n",
    "\n",
    "def temp_hist(ds):\n",
    "    return ds.hist('avg_temp_at_mean_elev', bin_range=temp_range, **hist_kwargs).options(\n",
    "        fill_color=color_temp, **hist_options)\n",
    "\n",
    "def precip_hist(ds):\n",
    "    return ds.hist('avg_prcp', bin_range=precip_range, **hist_kwargs).options(\n",
    "        fill_color=color_precip, **hist_options)\n",
    "\n",
    "import datashader as dsr\n",
    "from holoviews.util import Dynamic\n",
    "from holoviews.operation.datashader import rasterize, datashade\n",
    "\n",
    "# Static views\n",
    "geopoints = ds.to(gv.Points, ['cenlon', 'cenlat'], ['area_km2'], []).redim.range(area_km2=(0, 3000))\n",
    "geo_options = dict(width=600, height=500, global_extent=True, tools=['hover', 'box_select'], alpha=0.1, cmap='viridis', logz=True)\n",
    "shaded_points = rasterize(geo_view(ds), aggregator=dsr.sum('area_km2'), x_sampling=5000, y_sampling=5000).options(**geo_options)\n",
    "static_lat_alt     = datashade(lat_alt_view(ds), cmap=plasma(256)).options(alpha=0.1, tools=['box_select'], width=600, height=500, show_grid=True)\n",
    "static_temp_hist   = temp_hist(ds).options(alpha=0.1)\n",
    "static_precip_hist = precip_hist(ds).options(alpha=0.1)\n",
    "\n",
    "# Selections\n",
    "geo_selection = BoundsXY(source=shaded_points,      rename={'bounds': 'cenlon__cenlat_bounds'})\n",
    "alt_selection = BoundsXY(source=static_lat_alt, rename={'bounds': 'mean_elev__latdeg_bounds'})\n",
    "temp_bounds   = BoundsX(source=static_temp_hist,   rename={'boundsx': 'avg_temp_at_mean_elev_bounds'})\n",
    "precip_bounds = BoundsX(source=static_precip_hist, rename={'boundsx': 'avg_prcp_bounds'})\n",
    "selections    = [geo_selection, alt_selection, temp_bounds, precip_bounds]\n",
    "\n",
    "# Dynamically selected views\n",
    "\n",
    "ds_dmap = hv.DynamicMap(select_ds, streams=selections)\n",
    "geopoint_dmap    = rasterize(Dynamic(ds_dmap, operation=geo_view), aggregator=dsr.sum('area_km2'),\n",
    "                             x_sampling=5000, y_sampling=5000).options(cmap='viridis', logz=True)\n",
    "lat_alt_dmap     = datashade(Dynamic(ds_dmap, operation=lat_alt_view), cmap=plasma(256))\n",
    "temp_hist_dmap   = Dynamic(ds_dmap, operation=temp_hist)\n",
    "precip_hist_dmap = Dynamic(ds_dmap, operation=precip_hist)\n",
    "count_dmap       = Dynamic(ds_dmap, operation=count)\n",
    "\n",
    "# Combined views\n",
    "map_          = shaded_points * geopoint_dmap * gv.tile_sources.Wikipedia.options(alpha=0.4)\n",
    "altitude      = static_lat_alt*lat_alt_dmap\n",
    "temperature   = static_temp_hist*temp_hist_dmap\n",
    "precipitation = static_precip_hist*precip_hist_dmap\n",
    "\n",
    "# Button to reset selections\n",
    "clear_button = pn.widgets.Button(name='Clear selection')\n",
    "def clear_selections(event):\n",
    "    geo_selection.update(bounds=None)\n",
    "    alt_selection.update(bounds=None)\n",
    "    temp_bounds.update(boundsx=None)\n",
    "    precip_bounds.update(boundsx=None)\n",
    "    Stream.trigger(selections)\n",
    "\n",
    "clear_button.param.watch(clear_selections, 'clicks');"
   ]
  },
  {
   "cell_type": "markdown",
   "metadata": {},
   "source": [
    "## Construct dashboard\n",
    "\n",
    "Combine a header and the plots into a dashboard displayed in the notebook and serveable on bokeh server:"
   ]
  },
  {
   "cell_type": "code",
   "execution_count": null,
   "metadata": {},
   "outputs": [],
   "source": [
    "header = pn.Row(pn.Pane(oggm_logo, width=170), pn.Spacer(width=50), pn.Column(pn.Pane(title, height=25, width=400), pn.Spacer(height=-15), pn.Pane(instruction, width=500)),\n",
    "                pn.Spacer(width=180), pn.Column(pn.Pane(count_dmap), clear_button, pn.Spacer(height=-15)), \n",
    "                pn.Pane(pv_logo, width=80))\n",
    "\n",
    "pn.Column(header, pn.Spacer(height=-50), pn.Row(map_, altitude), pn.Row(temperature, precipitation)).servable()"
   ]
  },
  {
   "cell_type": "code",
   "execution_count": null,
   "metadata": {},
   "outputs": [],
   "source": []
  }
 ],
 "metadata": {
  "kernelspec": {
   "display_name": "Python 3",
   "language": "python",
   "name": "python3"
  },
  "language_info": {
   "codemirror_mode": {
    "name": "ipython",
    "version": 3
   },
   "file_extension": ".py",
   "mimetype": "text/x-python",
   "name": "python",
   "nbconvert_exporter": "python",
   "pygments_lexer": "ipython3",
   "version": "3.7.1"
  }
 },
 "nbformat": 4,
 "nbformat_minor": 2
}
